{
 "cells": [
  {
   "cell_type": "markdown",
   "metadata": {},
   "source": [
    "**SA305 &#x25aa; Linear Programming &#x25aa; Spring 2021 &#x25aa; Uhan**"
   ]
  },
  {
   "cell_type": "markdown",
   "metadata": {},
   "source": [
    "# Lab 5. Fitness Sneaker Company"
   ]
  },
  {
   "cell_type": "markdown",
   "metadata": {},
   "source": [
    "⚠️ In order to complete this lab, you need to have Pyomo and GLPK installed on your computer."
   ]
  },
  {
   "cell_type": "markdown",
   "metadata": {},
   "source": [
    "## Your assignment"
   ]
  },
  {
   "cell_type": "markdown",
   "metadata": {},
   "source": [
    "Recall Exercise 2.22 from Rader (Fitness Sneaker Company), assigned for homework. We can formulate this problem as a linear program as follows."
   ]
  },
  {
   "cell_type": "markdown",
   "metadata": {},
   "source": [
    "__Sets.__\n",
    "\n",
    "\\begin{alignat*}{2}\n",
    "    T & = \\text{set of months}\n",
    "\\end{alignat*}\n",
    "\n",
    "__Parameters.__\n",
    "\n",
    "\\begin{alignat*}{2}\n",
    "  d_i & = \\text{demand in period $i$} &\\quad& \\text{for $i \\in T$}\n",
    "\\end{alignat*}\n",
    "\n",
    "__Decision variables.__\n",
    "\n",
    "\\begin{alignat*}{2}\n",
    "  S_i & = \\text{number of sneakers produced during month $i$} &\\quad& \\text{for $i \\in T$} \\\\\n",
    "  I_i & = \\text{number of sneakers stored at the end of month $i$} &\\quad& \\text{for $i \\in T \\cup \\{0\\}$} \\\\\n",
    "  H_i & = \\text{number of workers hired in month $i$} &\\quad& \\text{for $i \\in T$} \\\\\n",
    "  F_i & = \\text{number of workers fired in month $i$} &\\quad& \\text{for $i \\in T$} \\\\\n",
    "  W_i & = \\text{number of workers working in month $i$} &\\quad& \\text{for $i \\in T$} \\\\\n",
    "  K_i & = \\text{number of workers kept at the end of month $i$} &\\quad& \\text{for $i \\in T \\cup \\{0\\}$} \\\\\n",
    "  O_i & = \\text{number of overtime hours in month $i$} &\\quad& \\text{for $i \\in T$}\n",
    "\\end{alignat*}\n",
    "\n",
    "__Objective function and constraints.__\n",
    "\n",
    "\\begin{alignat*}{3}\n",
    "  \\min \\quad & \\sum_{i \\in T} \\big(5I_i + 3000 W_i + 2000 H_i + 3000F_i+ 75 O_i\\big) &\\quad& &\\quad& \\text{(cost)}\\\\\n",
    "  \\text{s.t.} \\quad & S_i \\leq (3\\cdot200)W_i + 3O_i &\\quad& \\text{for } i \\in T &\\quad& \\text{(sneakers/labor)} \\\\\n",
    "  & O_i \\leq 40 W_i &\\quad& \\text{for } i \\in T &\\quad& \\text{(overtime limit)} \\\\\n",
    "  & W_i = K_{i-1} + H_i &\\quad& \\text{for } i \\in T &\\quad& \\text{(workers available)} \\\\\n",
    "  & K_{i-1} + H_i = K_i + F_i &\\quad& \\text{for } i \\in T &\\quad& \\text{(workers balance)} \\\\\n",
    "  & K_{0} = 15 &\\quad& &\\quad& \\text{(workers initial quantity)} \\\\\n",
    "  & I_i \\leq 3000 &\\quad& \\text{for } i \\in T &\\quad& \\text{(inventory limit)} \\\\\n",
    "  & I_{i-1} + S_i = I_i + d_i &\\quad& \\text{for } i \\in T &\\quad& \\text{(inventory balance)} \\\\\n",
    "  & I_{0} = 1000 &\\quad& &\\quad& \\text{(inventory initial quantity)}\\\\\n",
    "  & S_i, H_i, F_i, W_i, O_i \\geq 0 &\\quad& \\text{for $i \\in T$}\\\\\n",
    "  & I_i, K_i \\geq 0 &\\quad& \\text{for $i \\in T \\cup \\{0\\}$}  \n",
    "\\end{alignat*}"
   ]
  },
  {
   "cell_type": "markdown",
   "metadata": {},
   "source": [
    "The sets and parameters above have the following concrete values for this problem:\n",
    "\n",
    "\\begin{equation*}\n",
    "T = \\{1,2,3,4,5,6\\}\n",
    "\\end{equation*}\n",
    "\n",
    "\\begin{align*}\n",
    "d_1 & = 6000\\\\\n",
    "d_2 & = 5000\\\\\n",
    "d_3 & = 8000\\\\\n",
    "d_4 & = 4000\\\\\n",
    "d_5 & = 7000\\\\\n",
    "d_6 & = 5000\n",
    "\\end{align*}"
   ]
  },
  {
   "cell_type": "markdown",
   "metadata": {},
   "source": [
    "Construct and solve this model in Pyomo by completing the tasks given below."
   ]
  },
  {
   "cell_type": "markdown",
   "metadata": {},
   "source": [
    "__1.__  Import the Pyomo library and initialize a concrete model."
   ]
  },
  {
   "cell_type": "code",
   "execution_count": null,
   "metadata": {},
   "outputs": [],
   "source": []
  },
  {
   "cell_type": "markdown",
   "metadata": {},
   "source": [
    "__2.__ Define lists and dictionaries that define values for the sets and parameters in the model above.\n",
    "\n",
    "_Hint._ In addition to the set $T$, you'll find it useful to create a list corresponding to the set $\\{0\\}$."
   ]
  },
  {
   "cell_type": "code",
   "execution_count": null,
   "metadata": {},
   "outputs": [],
   "source": []
  },
  {
   "cell_type": "markdown",
   "metadata": {},
   "source": [
    "__3.__ Define and initialize the sets and parameters.\n",
    "\n",
    "_Hint_. In addition to defining a Pyomo Set for $T$, you'll find it useful to define a Pyomo set for $\\{0\\}$ as well."
   ]
  },
  {
   "cell_type": "code",
   "execution_count": null,
   "metadata": {},
   "outputs": [],
   "source": []
  },
  {
   "cell_type": "markdown",
   "metadata": {},
   "source": [
    "__4.__ Define the decision variables.\n",
    "\n",
    "_Hint._ Note that some decision variables are defined for $i \\in T \\cup \\{0\\}$. If $T$ is represented in Pyomo by `model.T` and $\\{0\\}$ is represented in Pyomo by `model.zero`, then you can refer to $T \\cup \\{0\\}$ in Pyomo with `model.T | model.zero`."
   ]
  },
  {
   "cell_type": "code",
   "execution_count": null,
   "metadata": {},
   "outputs": [],
   "source": []
  },
  {
   "cell_type": "markdown",
   "metadata": {},
   "source": [
    "__5.__ Define the objective function.  Make sure you specify the correct `sense`."
   ]
  },
  {
   "cell_type": "code",
   "execution_count": null,
   "metadata": {},
   "outputs": [],
   "source": []
  },
  {
   "cell_type": "markdown",
   "metadata": {},
   "source": [
    "__6.__ Define the constraints."
   ]
  },
  {
   "cell_type": "code",
   "execution_count": null,
   "metadata": {},
   "outputs": [],
   "source": []
  },
  {
   "cell_type": "markdown",
   "metadata": {},
   "source": [
    "__7.__ Solve the model and save the result as `result`."
   ]
  },
  {
   "cell_type": "code",
   "execution_count": null,
   "metadata": {},
   "outputs": [],
   "source": []
  },
  {
   "cell_type": "markdown",
   "metadata": {},
   "source": [
    "__8.__ Print the status of the solving process of the model. If the solver terminated with an optimal solution, print the optimal solution and its value."
   ]
  },
  {
   "cell_type": "code",
   "execution_count": null,
   "metadata": {},
   "outputs": [],
   "source": []
  },
  {
   "cell_type": "markdown",
   "metadata": {},
   "source": [
    "<hr style=\"border-top: 1px solid gray;\"/>"
   ]
  },
  {
   "cell_type": "markdown",
   "metadata": {},
   "source": [
    "## When you're finished"
   ]
  },
  {
   "cell_type": "markdown",
   "metadata": {},
   "source": [
    "- Make sure your notebook runs from top to bottom with no errors. One way to accomplish this is to click on __Kernel &#8594; Restart & Run All__. This will restart Python, and run your notebook from top to bottom."
   ]
  },
  {
   "cell_type": "markdown",
   "metadata": {},
   "source": [
    "<hr style=\"border-top: 1px solid gray;\"/>"
   ]
  },
  {
   "cell_type": "markdown",
   "metadata": {},
   "source": [
    "## Grading"
   ]
  },
  {
   "cell_type": "markdown",
   "metadata": {},
   "source": [
    "| Problem | Weight |\n",
    "| :-: | -: |\n",
    "| 1 | 0.25 |\n",
    "| 2 | 1 | \n",
    "| 3 | 1 | \n",
    "| 4 | 1 | \n",
    "| 5 | 1 | \n",
    "| 6 | 4 |\n",
    "| 7 | 0.75 | \n",
    "| 8 | 1 |\n",
    "| __Total__ | __100 points__ |"
   ]
  }
 ],
 "metadata": {
  "kernelspec": {
   "display_name": "Python 3",
   "language": "python",
   "name": "python3"
  },
  "language_info": {
   "codemirror_mode": {
    "name": "ipython",
    "version": 3
   },
   "file_extension": ".py",
   "mimetype": "text/x-python",
   "name": "python",
   "nbconvert_exporter": "python",
   "pygments_lexer": "ipython3",
   "version": "3.7.6"
  }
 },
 "nbformat": 4,
 "nbformat_minor": 2
}
